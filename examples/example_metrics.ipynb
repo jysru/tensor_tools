{
 "cells": [
  {
   "cell_type": "code",
   "execution_count": 16,
   "metadata": {},
   "outputs": [
    {
     "name": "stdout",
     "output_type": "stream",
     "text": [
      "The autoreload extension is already loaded. To reload it, use:\n",
      "  %reload_ext autoreload\n"
     ]
    }
   ],
   "source": [
    "%load_ext autoreload\n",
    "%autoreload 2\n",
    "\n",
    "import numpy as np\n",
    "import torch\n",
    "import tensorflow as tf\n",
    "\n",
    "import tensortools.numpy.metrics as np_metrics\n",
    "import tensortools.torch.metrics as th_metrics\n",
    "import tensortools.tf.metrics as tf_metrics"
   ]
  },
  {
   "cell_type": "code",
   "execution_count": 37,
   "metadata": {},
   "outputs": [
    {
     "name": "stdout",
     "output_type": "stream",
     "text": [
      "0.11252815791538334\n",
      "tensor(0.1114, dtype=torch.float64)\n",
      "tf.Tensor(0.11252815791538337, shape=(), dtype=float64)\n"
     ]
    }
   ],
   "source": [
    "a_np = np.random.rand(10,10) + 1j * np.random.rand(10,10)\n",
    "b_np = np.random.rand(10,10) + 1j * np.random.rand(10,10)\n",
    "\n",
    "a_th = torch.from_numpy(a_np)\n",
    "b_th = torch.from_numpy(b_np)\n",
    "\n",
    "a_tf = tf.convert_to_tensor(a_np)\n",
    "b_tf = tf.convert_to_tensor(b_np)\n",
    "\n",
    "print(np_metrics.pearson(a_np, b_np))\n",
    "print(th_metrics.pearson(a_th, b_th))\n",
    "print(tf_metrics.pearson(a_th, b_th))"
   ]
  }
 ],
 "metadata": {
  "kernelspec": {
   "display_name": "ml",
   "language": "python",
   "name": "python3"
  },
  "language_info": {
   "codemirror_mode": {
    "name": "ipython",
    "version": 3
   },
   "file_extension": ".py",
   "mimetype": "text/x-python",
   "name": "python",
   "nbconvert_exporter": "python",
   "pygments_lexer": "ipython3",
   "version": "3.9.13"
  }
 },
 "nbformat": 4,
 "nbformat_minor": 2
}
