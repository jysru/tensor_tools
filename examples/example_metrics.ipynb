{
 "cells": [
  {
   "cell_type": "code",
   "execution_count": 1,
   "metadata": {},
   "outputs": [],
   "source": [
    "%load_ext autoreload\n",
    "%autoreload 2\n",
    "\n",
    "import numpy as np\n",
    "import torch\n",
    "import tensorflow as tf\n",
    "\n",
    "import tensortools.numpy.metrics as np_metrics\n",
    "import tensortools.torch.metrics as th_metrics\n",
    "import tensortools.tf.metrics as tf_metrics"
   ]
  },
  {
   "cell_type": "code",
   "execution_count": 11,
   "metadata": {},
   "outputs": [
    {
     "name": "stdout",
     "output_type": "stream",
     "text": [
      "['__builtins__', '__cached__', '__doc__', '__file__', '__loader__', '__name__', '__package__', '__spec__', 'dot_product', 'mae', 'mse', 'np', 'pearson', 'quality']\n",
      "dot_product\n",
      "dot_product\n",
      "dot_product: (0.8486950985049917+0.0007584326022439591j)\n",
      "dot_product: (0.8486950985049918+0.000758432602243948j)\n",
      "dot_product: (0.8486950985049916+0.000758432602243948j)\n",
      "mae\n",
      "mae\n",
      "mae: 0.29253408510952444\n",
      "mae: 0.2925340851095245\n",
      "mae: 0.2925340851095245\n",
      "mse\n",
      "mse\n",
      "mse: 0.13233958201668722\n",
      "mse: 0.1323395820166872\n",
      "mse: 0.13233958201668722\n",
      "np\n",
      "pearson\n",
      "pearson\n",
      "pearson: 0.04525591194871458\n",
      "pearson: 0.04480335282922741\n",
      "pearson: 0.04525591194871457\n",
      "quality\n",
      "quality\n",
      "quality: 0.8486954373898858\n",
      "quality: 0.8486954373898861\n",
      "quality: 0.8486954373898857\n"
     ]
    }
   ],
   "source": [
    "a_np = np.random.rand(10,10) + 1j * np.random.rand(10,10)\n",
    "b_np = np.random.rand(10,10) + 1j * np.random.rand(10,10)\n",
    "\n",
    "a_th = torch.from_numpy(a_np)\n",
    "b_th = torch.from_numpy(b_np)\n",
    "\n",
    "a_tf = tf.convert_to_tensor(a_np)\n",
    "b_tf = tf.convert_to_tensor(b_np)\n",
    "\n",
    "\n",
    "print(dir(np_metrics))\n",
    "for function in dir(np_metrics):\n",
    "    if function[0:2] != '__':\n",
    "        print(f\"{function}\")\n",
    "        if function not in ['np', 'tf']:\n",
    "            np_caller = getattr(np_metrics, function)\n",
    "            torch_caller = getattr(th_metrics, function)\n",
    "            tf_caller = getattr(tf_metrics, function)\n",
    "\n",
    "            print(f\"{function}\")\n",
    "            print(f\"{function}: {np_caller(a_np, b_np)}\")\n",
    "            print(f\"{function}: {torch_caller(a_th, b_th)}\")\n",
    "            print(f\"{function}: {tf_caller(a_tf, b_tf)}\")\n",
    "\n"
   ]
  }
 ],
 "metadata": {
  "kernelspec": {
   "display_name": "ml",
   "language": "python",
   "name": "python3"
  },
  "language_info": {
   "codemirror_mode": {
    "name": "ipython",
    "version": 3
   },
   "file_extension": ".py",
   "mimetype": "text/x-python",
   "name": "python",
   "nbconvert_exporter": "python",
   "pygments_lexer": "ipython3",
   "version": "3.9.13"
  }
 },
 "nbformat": 4,
 "nbformat_minor": 2
}
