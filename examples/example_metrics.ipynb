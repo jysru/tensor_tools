{
 "cells": [
  {
   "cell_type": "code",
   "execution_count": 1,
   "metadata": {},
   "outputs": [],
   "source": [
    "%load_ext autoreload\n",
    "%autoreload 2\n",
    "\n",
    "import numpy as np\n",
    "import torch\n",
    "import tensorflow as tf\n",
    "\n",
    "import tensortools.numpy.metrics as np_metrics\n",
    "import tensortools.torch.metrics as th_metrics\n",
    "import tensortools.tf.metrics as tf_metrics"
   ]
  },
  {
   "cell_type": "code",
   "execution_count": 36,
   "metadata": {},
   "outputs": [
    {
     "name": "stdout",
     "output_type": "stream",
     "text": [
      "['__builtins__', '__cached__', '__file__', '__loader__', '__name__', '__package__', '__spec__', 'dot_product', 'mae', 'mse', 'np', 'pearson', 'quality']\n",
      "dot_product\n",
      "dot_product\n",
      "dot_product: (0.8762541975124363-0.005275020471529088j)\n",
      "dot_product: (0.8762541975124363-0.005275020471529097j)\n",
      "dot_product: (0.8762541975124362-0.005275020471529106j)\n",
      "mae\n",
      "mae\n",
      "mae: 0.3557442453063259\n",
      "mae: 0.35574424530632576\n",
      "mae: 0.35574424530632576\n",
      "mse\n",
      "mse\n",
      "mse: 0.18491529449556443\n",
      "mse: 0.18491529449556438\n",
      "mse: 0.18491529449556438\n",
      "np\n"
     ]
    },
    {
     "ename": "AttributeError",
     "evalue": "module 'tensortools.torch.metrics' has no attribute 'np'",
     "output_type": "error",
     "traceback": [
      "\u001b[1;31m---------------------------------------------------------------------------\u001b[0m",
      "\u001b[1;31mAttributeError\u001b[0m                            Traceback (most recent call last)",
      "\u001b[1;32mc:\\Users\\Jysru\\Coding\\tensor_tools\\examples\\example_metrics.ipynb Cell 2\u001b[0m line \u001b[0;36m1\n\u001b[0;32m     <a href='vscode-notebook-cell:/c%3A/Users/Jysru/Coding/tensor_tools/examples/example_metrics.ipynb#W2sZmlsZQ%3D%3D?line=13'>14</a>\u001b[0m \u001b[39mprint\u001b[39m(\u001b[39mf\u001b[39m\u001b[39m\"\u001b[39m\u001b[39m{\u001b[39;00mfunction\u001b[39m}\u001b[39;00m\u001b[39m\"\u001b[39m)\n\u001b[0;32m     <a href='vscode-notebook-cell:/c%3A/Users/Jysru/Coding/tensor_tools/examples/example_metrics.ipynb#W2sZmlsZQ%3D%3D?line=14'>15</a>\u001b[0m np_caller \u001b[39m=\u001b[39m \u001b[39mgetattr\u001b[39m(np_metrics, function)\n\u001b[1;32m---> <a href='vscode-notebook-cell:/c%3A/Users/Jysru/Coding/tensor_tools/examples/example_metrics.ipynb#W2sZmlsZQ%3D%3D?line=15'>16</a>\u001b[0m torch_caller \u001b[39m=\u001b[39m \u001b[39mgetattr\u001b[39;49m(th_metrics, function)\n\u001b[0;32m     <a href='vscode-notebook-cell:/c%3A/Users/Jysru/Coding/tensor_tools/examples/example_metrics.ipynb#W2sZmlsZQ%3D%3D?line=16'>17</a>\u001b[0m tf_caller \u001b[39m=\u001b[39m \u001b[39mgetattr\u001b[39m(tf_metrics, function)\n\u001b[0;32m     <a href='vscode-notebook-cell:/c%3A/Users/Jysru/Coding/tensor_tools/examples/example_metrics.ipynb#W2sZmlsZQ%3D%3D?line=18'>19</a>\u001b[0m \u001b[39mprint\u001b[39m(\u001b[39mf\u001b[39m\u001b[39m\"\u001b[39m\u001b[39m{\u001b[39;00mfunction\u001b[39m}\u001b[39;00m\u001b[39m\"\u001b[39m)\n",
      "\u001b[1;31mAttributeError\u001b[0m: module 'tensortools.torch.metrics' has no attribute 'np'"
     ]
    }
   ],
   "source": [
    "a_np = np.random.rand(10,10) + 1j * np.random.rand(10,10)\n",
    "b_np = np.random.rand(10,10) + 1j * np.random.rand(10,10)\n",
    "\n",
    "a_th = torch.from_numpy(a_np)\n",
    "b_th = torch.from_numpy(b_np)\n",
    "\n",
    "a_tf = tf.convert_to_tensor(a_np)\n",
    "b_tf = tf.convert_to_tensor(b_np)\n",
    "\n",
    "\n",
    "print(dir(np_metrics))\n",
    "for function in dir(np_metrics):\n",
    "    if function[0:2] != '__' and function != ['np', 'tf']:\n",
    "        print(f\"{function}\")\n",
    "        np_caller = getattr(np_metrics, function)\n",
    "        torch_caller = getattr(th_metrics, function)\n",
    "        tf_caller = getattr(tf_metrics, function)\n",
    "\n",
    "        print(f\"{function}\")\n",
    "        print(f\"{function}: {np_caller(a_np, b_np)}\")\n",
    "        print(f\"{function}: {torch_caller(a_th, b_th)}\")\n",
    "        print(f\"{function}: {tf_caller(a_tf, b_tf)}\")\n",
    "\n"
   ]
  }
 ],
 "metadata": {
  "kernelspec": {
   "display_name": "ml",
   "language": "python",
   "name": "python3"
  },
  "language_info": {
   "codemirror_mode": {
    "name": "ipython",
    "version": 3
   },
   "file_extension": ".py",
   "mimetype": "text/x-python",
   "name": "python",
   "nbconvert_exporter": "python",
   "pygments_lexer": "ipython3",
   "version": "3.9.13"
  }
 },
 "nbformat": 4,
 "nbformat_minor": 2
}
